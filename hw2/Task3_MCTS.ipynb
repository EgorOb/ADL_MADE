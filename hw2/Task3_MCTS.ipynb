{
  "nbformat": 4,
  "nbformat_minor": 0,
  "metadata": {
    "colab": {
      "name": "MCTS1.ipynb",
      "provenance": [],
      "collapsed_sections": []
    },
    "kernelspec": {
      "display_name": "Python 3",
      "language": "python",
      "name": "python3"
    },
    "language_info": {
      "codemirror_mode": {
        "name": "ipython",
        "version": 3
      },
      "file_extension": ".py",
      "mimetype": "text/x-python",
      "name": "python",
      "nbconvert_exporter": "python",
      "pygments_lexer": "ipython3",
      "version": "3.8.5"
    },
    "widgets": {
      "application/vnd.jupyter.widget-state+json": {
        "b4b1310d2f5c45f7ba95ffb3fd482570": {
          "model_module": "@jupyter-widgets/controls",
          "model_name": "HBoxModel",
          "state": {
            "_view_name": "HBoxView",
            "_dom_classes": [],
            "_model_name": "HBoxModel",
            "_view_module": "@jupyter-widgets/controls",
            "_model_module_version": "1.5.0",
            "_view_count": null,
            "_view_module_version": "1.5.0",
            "box_style": "",
            "layout": "IPY_MODEL_4abc6d467ffd4fe49fd621c8e21c3edc",
            "_model_module": "@jupyter-widgets/controls",
            "children": [
              "IPY_MODEL_a18424fff68b420db254f71a4dcb506b",
              "IPY_MODEL_7c7973f8e58a4cff8f22ba24b6ce83fb"
            ]
          }
        },
        "4abc6d467ffd4fe49fd621c8e21c3edc": {
          "model_module": "@jupyter-widgets/base",
          "model_name": "LayoutModel",
          "state": {
            "_view_name": "LayoutView",
            "grid_template_rows": null,
            "right": null,
            "justify_content": null,
            "_view_module": "@jupyter-widgets/base",
            "overflow": null,
            "_model_module_version": "1.2.0",
            "_view_count": null,
            "flex_flow": null,
            "width": null,
            "min_width": null,
            "border": null,
            "align_items": null,
            "bottom": null,
            "_model_module": "@jupyter-widgets/base",
            "top": null,
            "grid_column": null,
            "overflow_y": null,
            "overflow_x": null,
            "grid_auto_flow": null,
            "grid_area": null,
            "grid_template_columns": null,
            "flex": null,
            "_model_name": "LayoutModel",
            "justify_items": null,
            "grid_row": null,
            "max_height": null,
            "align_content": null,
            "visibility": null,
            "align_self": null,
            "height": null,
            "min_height": null,
            "padding": null,
            "grid_auto_rows": null,
            "grid_gap": null,
            "max_width": null,
            "order": null,
            "_view_module_version": "1.2.0",
            "grid_template_areas": null,
            "object_position": null,
            "object_fit": null,
            "grid_auto_columns": null,
            "margin": null,
            "display": null,
            "left": null
          }
        },
        "a18424fff68b420db254f71a4dcb506b": {
          "model_module": "@jupyter-widgets/controls",
          "model_name": "FloatProgressModel",
          "state": {
            "_view_name": "ProgressView",
            "style": "IPY_MODEL_9b8717ac75754175afce503c3cda6c9c",
            "_dom_classes": [],
            "description": "100%",
            "_model_name": "FloatProgressModel",
            "bar_style": "success",
            "max": 12001,
            "_view_module": "@jupyter-widgets/controls",
            "_model_module_version": "1.5.0",
            "value": 12001,
            "_view_count": null,
            "_view_module_version": "1.5.0",
            "orientation": "horizontal",
            "min": 0,
            "description_tooltip": null,
            "_model_module": "@jupyter-widgets/controls",
            "layout": "IPY_MODEL_94f8434adca245ea874990d0d461d091"
          }
        },
        "7c7973f8e58a4cff8f22ba24b6ce83fb": {
          "model_module": "@jupyter-widgets/controls",
          "model_name": "HTMLModel",
          "state": {
            "_view_name": "HTMLView",
            "style": "IPY_MODEL_588170f47106431a95657a3c694bb0df",
            "_dom_classes": [],
            "description": "",
            "_model_name": "HTMLModel",
            "placeholder": "​",
            "_view_module": "@jupyter-widgets/controls",
            "_model_module_version": "1.5.0",
            "value": " 12001/12001 [21:27&lt;00:00,  9.32it/s]",
            "_view_count": null,
            "_view_module_version": "1.5.0",
            "description_tooltip": null,
            "_model_module": "@jupyter-widgets/controls",
            "layout": "IPY_MODEL_3666c5a60ef243fe9aef6765feb00a82"
          }
        },
        "9b8717ac75754175afce503c3cda6c9c": {
          "model_module": "@jupyter-widgets/controls",
          "model_name": "ProgressStyleModel",
          "state": {
            "_view_name": "StyleView",
            "_model_name": "ProgressStyleModel",
            "description_width": "initial",
            "_view_module": "@jupyter-widgets/base",
            "_model_module_version": "1.5.0",
            "_view_count": null,
            "_view_module_version": "1.2.0",
            "bar_color": null,
            "_model_module": "@jupyter-widgets/controls"
          }
        },
        "94f8434adca245ea874990d0d461d091": {
          "model_module": "@jupyter-widgets/base",
          "model_name": "LayoutModel",
          "state": {
            "_view_name": "LayoutView",
            "grid_template_rows": null,
            "right": null,
            "justify_content": null,
            "_view_module": "@jupyter-widgets/base",
            "overflow": null,
            "_model_module_version": "1.2.0",
            "_view_count": null,
            "flex_flow": null,
            "width": null,
            "min_width": null,
            "border": null,
            "align_items": null,
            "bottom": null,
            "_model_module": "@jupyter-widgets/base",
            "top": null,
            "grid_column": null,
            "overflow_y": null,
            "overflow_x": null,
            "grid_auto_flow": null,
            "grid_area": null,
            "grid_template_columns": null,
            "flex": null,
            "_model_name": "LayoutModel",
            "justify_items": null,
            "grid_row": null,
            "max_height": null,
            "align_content": null,
            "visibility": null,
            "align_self": null,
            "height": null,
            "min_height": null,
            "padding": null,
            "grid_auto_rows": null,
            "grid_gap": null,
            "max_width": null,
            "order": null,
            "_view_module_version": "1.2.0",
            "grid_template_areas": null,
            "object_position": null,
            "object_fit": null,
            "grid_auto_columns": null,
            "margin": null,
            "display": null,
            "left": null
          }
        },
        "588170f47106431a95657a3c694bb0df": {
          "model_module": "@jupyter-widgets/controls",
          "model_name": "DescriptionStyleModel",
          "state": {
            "_view_name": "StyleView",
            "_model_name": "DescriptionStyleModel",
            "description_width": "",
            "_view_module": "@jupyter-widgets/base",
            "_model_module_version": "1.5.0",
            "_view_count": null,
            "_view_module_version": "1.2.0",
            "_model_module": "@jupyter-widgets/controls"
          }
        },
        "3666c5a60ef243fe9aef6765feb00a82": {
          "model_module": "@jupyter-widgets/base",
          "model_name": "LayoutModel",
          "state": {
            "_view_name": "LayoutView",
            "grid_template_rows": null,
            "right": null,
            "justify_content": null,
            "_view_module": "@jupyter-widgets/base",
            "overflow": null,
            "_model_module_version": "1.2.0",
            "_view_count": null,
            "flex_flow": null,
            "width": null,
            "min_width": null,
            "border": null,
            "align_items": null,
            "bottom": null,
            "_model_module": "@jupyter-widgets/base",
            "top": null,
            "grid_column": null,
            "overflow_y": null,
            "overflow_x": null,
            "grid_auto_flow": null,
            "grid_area": null,
            "grid_template_columns": null,
            "flex": null,
            "_model_name": "LayoutModel",
            "justify_items": null,
            "grid_row": null,
            "max_height": null,
            "align_content": null,
            "visibility": null,
            "align_self": null,
            "height": null,
            "min_height": null,
            "padding": null,
            "grid_auto_rows": null,
            "grid_gap": null,
            "max_width": null,
            "order": null,
            "_view_module_version": "1.2.0",
            "grid_template_areas": null,
            "object_position": null,
            "object_fit": null,
            "grid_auto_columns": null,
            "margin": null,
            "display": null,
            "left": null
          }
        },
        "99e2975ffc4549fe8bfcfeba78487b63": {
          "model_module": "@jupyter-widgets/controls",
          "model_name": "HBoxModel",
          "state": {
            "_view_name": "HBoxView",
            "_dom_classes": [],
            "_model_name": "HBoxModel",
            "_view_module": "@jupyter-widgets/controls",
            "_model_module_version": "1.5.0",
            "_view_count": null,
            "_view_module_version": "1.5.0",
            "box_style": "",
            "layout": "IPY_MODEL_a436bc0c6ccb434b94099a65136ff124",
            "_model_module": "@jupyter-widgets/controls",
            "children": [
              "IPY_MODEL_92bc0cbce95d495493257c8836141b1b",
              "IPY_MODEL_6eaff014b2174e7493ded9bcb6b7b1fd"
            ]
          }
        },
        "a436bc0c6ccb434b94099a65136ff124": {
          "model_module": "@jupyter-widgets/base",
          "model_name": "LayoutModel",
          "state": {
            "_view_name": "LayoutView",
            "grid_template_rows": null,
            "right": null,
            "justify_content": null,
            "_view_module": "@jupyter-widgets/base",
            "overflow": null,
            "_model_module_version": "1.2.0",
            "_view_count": null,
            "flex_flow": null,
            "width": null,
            "min_width": null,
            "border": null,
            "align_items": null,
            "bottom": null,
            "_model_module": "@jupyter-widgets/base",
            "top": null,
            "grid_column": null,
            "overflow_y": null,
            "overflow_x": null,
            "grid_auto_flow": null,
            "grid_area": null,
            "grid_template_columns": null,
            "flex": null,
            "_model_name": "LayoutModel",
            "justify_items": null,
            "grid_row": null,
            "max_height": null,
            "align_content": null,
            "visibility": null,
            "align_self": null,
            "height": null,
            "min_height": null,
            "padding": null,
            "grid_auto_rows": null,
            "grid_gap": null,
            "max_width": null,
            "order": null,
            "_view_module_version": "1.2.0",
            "grid_template_areas": null,
            "object_position": null,
            "object_fit": null,
            "grid_auto_columns": null,
            "margin": null,
            "display": null,
            "left": null
          }
        },
        "92bc0cbce95d495493257c8836141b1b": {
          "model_module": "@jupyter-widgets/controls",
          "model_name": "FloatProgressModel",
          "state": {
            "_view_name": "ProgressView",
            "style": "IPY_MODEL_0950308e274c4cca8852876a6fbb1d3e",
            "_dom_classes": [],
            "description": " 13%",
            "_model_name": "FloatProgressModel",
            "bar_style": "",
            "max": 25001,
            "_view_module": "@jupyter-widgets/controls",
            "_model_module_version": "1.5.0",
            "value": 3289,
            "_view_count": null,
            "_view_module_version": "1.5.0",
            "orientation": "horizontal",
            "min": 0,
            "description_tooltip": null,
            "_model_module": "@jupyter-widgets/controls",
            "layout": "IPY_MODEL_7d013b1e644a4d83b9418656157945ac"
          }
        },
        "6eaff014b2174e7493ded9bcb6b7b1fd": {
          "model_module": "@jupyter-widgets/controls",
          "model_name": "HTMLModel",
          "state": {
            "_view_name": "HTMLView",
            "style": "IPY_MODEL_fd7eb1b16603467990f11131779e8b70",
            "_dom_classes": [],
            "description": "",
            "_model_name": "HTMLModel",
            "placeholder": "​",
            "_view_module": "@jupyter-widgets/controls",
            "_model_module_version": "1.5.0",
            "value": " 3289/25001 [13:50&lt;1:39:30,  3.64it/s]",
            "_view_count": null,
            "_view_module_version": "1.5.0",
            "description_tooltip": null,
            "_model_module": "@jupyter-widgets/controls",
            "layout": "IPY_MODEL_6788b46147d646748301dbc288d9ee1e"
          }
        },
        "0950308e274c4cca8852876a6fbb1d3e": {
          "model_module": "@jupyter-widgets/controls",
          "model_name": "ProgressStyleModel",
          "state": {
            "_view_name": "StyleView",
            "_model_name": "ProgressStyleModel",
            "description_width": "initial",
            "_view_module": "@jupyter-widgets/base",
            "_model_module_version": "1.5.0",
            "_view_count": null,
            "_view_module_version": "1.2.0",
            "bar_color": null,
            "_model_module": "@jupyter-widgets/controls"
          }
        },
        "7d013b1e644a4d83b9418656157945ac": {
          "model_module": "@jupyter-widgets/base",
          "model_name": "LayoutModel",
          "state": {
            "_view_name": "LayoutView",
            "grid_template_rows": null,
            "right": null,
            "justify_content": null,
            "_view_module": "@jupyter-widgets/base",
            "overflow": null,
            "_model_module_version": "1.2.0",
            "_view_count": null,
            "flex_flow": null,
            "width": null,
            "min_width": null,
            "border": null,
            "align_items": null,
            "bottom": null,
            "_model_module": "@jupyter-widgets/base",
            "top": null,
            "grid_column": null,
            "overflow_y": null,
            "overflow_x": null,
            "grid_auto_flow": null,
            "grid_area": null,
            "grid_template_columns": null,
            "flex": null,
            "_model_name": "LayoutModel",
            "justify_items": null,
            "grid_row": null,
            "max_height": null,
            "align_content": null,
            "visibility": null,
            "align_self": null,
            "height": null,
            "min_height": null,
            "padding": null,
            "grid_auto_rows": null,
            "grid_gap": null,
            "max_width": null,
            "order": null,
            "_view_module_version": "1.2.0",
            "grid_template_areas": null,
            "object_position": null,
            "object_fit": null,
            "grid_auto_columns": null,
            "margin": null,
            "display": null,
            "left": null
          }
        },
        "fd7eb1b16603467990f11131779e8b70": {
          "model_module": "@jupyter-widgets/controls",
          "model_name": "DescriptionStyleModel",
          "state": {
            "_view_name": "StyleView",
            "_model_name": "DescriptionStyleModel",
            "description_width": "",
            "_view_module": "@jupyter-widgets/base",
            "_model_module_version": "1.5.0",
            "_view_count": null,
            "_view_module_version": "1.2.0",
            "_model_module": "@jupyter-widgets/controls"
          }
        },
        "6788b46147d646748301dbc288d9ee1e": {
          "model_module": "@jupyter-widgets/base",
          "model_name": "LayoutModel",
          "state": {
            "_view_name": "LayoutView",
            "grid_template_rows": null,
            "right": null,
            "justify_content": null,
            "_view_module": "@jupyter-widgets/base",
            "overflow": null,
            "_model_module_version": "1.2.0",
            "_view_count": null,
            "flex_flow": null,
            "width": null,
            "min_width": null,
            "border": null,
            "align_items": null,
            "bottom": null,
            "_model_module": "@jupyter-widgets/base",
            "top": null,
            "grid_column": null,
            "overflow_y": null,
            "overflow_x": null,
            "grid_auto_flow": null,
            "grid_area": null,
            "grid_template_columns": null,
            "flex": null,
            "_model_name": "LayoutModel",
            "justify_items": null,
            "grid_row": null,
            "max_height": null,
            "align_content": null,
            "visibility": null,
            "align_self": null,
            "height": null,
            "min_height": null,
            "padding": null,
            "grid_auto_rows": null,
            "grid_gap": null,
            "max_width": null,
            "order": null,
            "_view_module_version": "1.2.0",
            "grid_template_areas": null,
            "object_position": null,
            "object_fit": null,
            "grid_auto_columns": null,
            "margin": null,
            "display": null,
            "left": null
          }
        }
      }
    }
  },
  "cells": [
    {
      "cell_type": "code",
      "metadata": {
        "id": "XGkNiLU9-uZz"
      },
      "source": [
        "import matplotlib.pyplot as plt\n",
        "import math\n",
        "import random\n",
        "import numpy as np\n",
        "from numba import njit\n",
        "from collections import defaultdict\n",
        "from tqdm.notebook import tqdm"
      ],
      "execution_count": 2,
      "outputs": []
    },
    {
      "cell_type": "code",
      "metadata": {
        "id": "XWjSP2mnMAhP"
      },
      "source": [
        "@njit(cache=True)\n",
        "def availablePositions(board):\n",
        "    data = np.where(board==0)\n",
        "    positions = list(zip(data[0], data[1]))\n",
        "    return positions"
      ],
      "execution_count": 3,
      "outputs": []
    },
    {
      "cell_type": "code",
      "metadata": {
        "id": "pTbxxKiRMAhR"
      },
      "source": [
        "@njit('i8[:](i8[:,:],i8, i8, i8)', cache=True)\n",
        "def who_winner(board, board_rows, board_cols, num_counts):\n",
        "        # row\n",
        "        for i in range(board_rows):\n",
        "            if np.sum(board[i, :]) == num_counts:\n",
        "                return np.array([1, 1])\n",
        "            if np.sum(board[i, :]) == -num_counts:\n",
        "                return np.array([1, -1])\n",
        "        # col\n",
        "        for i in range(board_cols):\n",
        "            if np.sum(board[:, i]) == num_counts:\n",
        "                return np.array([1, 1])\n",
        "            if np.sum(board[:, i]) == -num_counts:\n",
        "                return np.array([1, -1])\n",
        "        # diagonal\n",
        "        diag_sum1 = 0\n",
        "        diag_sum2 = 0\n",
        "        for i in range(board_cols):\n",
        "            diag_sum1 += board[i, i]\n",
        "            diag_sum2 += board[i, board_cols - i - 1]\n",
        "        diag_sum = max(abs(diag_sum1), abs(diag_sum2))\n",
        "        if diag_sum == num_counts:\n",
        "            if diag_sum1 == num_counts or diag_sum2 == num_counts:\n",
        "                return np.array([1, 1])\n",
        "            else:\n",
        "                return np.array([1, -1])\n",
        "\n",
        "        if len(availablePositions(board)) == 0:\n",
        "            return np.array([1, 0])\n",
        "        return np.array([0, 0])"
      ],
      "execution_count": 4,
      "outputs": []
    },
    {
      "cell_type": "code",
      "metadata": {
        "id": "HX5FNFmLMAhT"
      },
      "source": [
        "class TicTacToe:\n",
        "    def __init__(self, board_rows, board_cols, num_counts):\n",
        "        self.board = np.zeros((board_rows, board_cols), dtype = int)\n",
        "        self.isEnd = False\n",
        "        self.playerName = 1\n",
        "        self.board_rows = board_rows\n",
        "        self.board_cols = board_cols\n",
        "        self.num_counts = num_counts\n",
        "\n",
        "    def updateState(self, position):\n",
        "        self.board[position] = self.playerName\n",
        "        self.playerName = -1 if self.playerName == 1 else 1\n",
        "        self.is_winner()\n",
        "\n",
        "    def reset(self):\n",
        "        self.board = np.zeros((self.board_rows, self.board_cols), dtype = int)\n",
        "        self.isEnd = False\n",
        "        self.playerName = 1\n",
        "\n",
        "    def availablePositions(self,):\n",
        "        return availablePositions(self.board)\n",
        "    \n",
        "    def is_winner(self):\n",
        "        win = who_winner(self.board, self.board_rows, self.board_cols, self.num_counts)\n",
        "        self.isEnd = win[0]\n",
        "        if win[0] == 0:\n",
        "            return None\n",
        "        return win[1]\n",
        "    \n",
        "    def copy_board(self):\n",
        "        tmp = TicTacToe(board_rows=self.board_rows, board_cols=self.board_cols, num_counts=self.num_counts)\n",
        "        tmp.board = self.board.copy()\n",
        "        tmp.isEnd = self.isEnd\n",
        "        tmp.playerName = self.playerName\n",
        "        return tmp\n",
        "        \n",
        "    def take_available_steps(self):\n",
        "        boards = []\n",
        "        if self.isEnd == False:\n",
        "            for pos in self.availablePositions():\n",
        "                board = self.copy_board()\n",
        "                board.updateState(pos)\n",
        "                boards.append(board)\n",
        "        return set(boards)\n",
        "    \n",
        "    def take_random_step(self):\n",
        "        if self.isEnd == True:\n",
        "            return None\n",
        "        board = self.copy_board()\n",
        "        av_pos = board.availablePositions()\n",
        "        board.updateState(random.choice(av_pos))\n",
        "        return board\n",
        "    \n",
        "    def get_hash(self):\n",
        "        return self.board.tobytes()\n",
        "    \n",
        "    def __hash__(self):\n",
        "        return hash(self.board.tobytes())\n",
        "    \n",
        "    def __eq__(self, other):\n",
        "        return self.get_hash() == other.get_hash()"
      ],
      "execution_count": 5,
      "outputs": []
    },
    {
      "cell_type": "code",
      "metadata": {
        "id": "BTSgGzMA-2dF"
      },
      "source": [
        "class MCTS:\n",
        "    def __init__(self, exploration_weight=1):\n",
        "        self.Q = defaultdict(int)\n",
        "        self.N = defaultdict(int)\n",
        "        self.children = dict()\n",
        "        self.exploration_weight = exploration_weight\n",
        "\n",
        "    def choose(self, node):\n",
        "        if node not in self.children:\n",
        "            return node.take_random_step()\n",
        "        \n",
        "        def find_score(n):\n",
        "            if self.N[n] == 0:\n",
        "                return float(\"-inf\")\n",
        "            return self.Q[n] / self.N[n]\n",
        "        \n",
        "        return max(self.children[node], key=find_score)\n",
        "    \n",
        "    def do_rollout(self, node):\n",
        "        path = self._select(node)\n",
        "        leaf = path[-1]\n",
        "        self._expand(leaf)\n",
        "        reward = self._random_play(leaf)\n",
        "        self._backpropagate(path, reward)\n",
        "    \n",
        "    def _select(self, node):\n",
        "        path = []\n",
        "        while True:\n",
        "            path.append(node)\n",
        "            if node not in self.children or not self.children[node]:\n",
        "                return path\n",
        "            for n in self.children[node]:\n",
        "                if n not in self.children:\n",
        "                    path.append(n)\n",
        "                    return path\n",
        "            node = self._uct_select(node)\n",
        "\n",
        "    def _expand(self, node):\n",
        "        if node in self.children:\n",
        "            return\n",
        "        self.children[node] = node.take_available_steps()\n",
        "\n",
        "    def _random_play(self, node):\n",
        "        while node.isEnd == False:\n",
        "            node = node.take_random_step()\n",
        "        return node.is_winner()\n",
        "\n",
        "    def _backpropagate(self, path, reward):\n",
        "        for node in reversed(path):\n",
        "            self.N[node] += 1\n",
        "            self.Q[node] += reward\n",
        "    \n",
        "    def _uct_select(self, node):\n",
        "        assert all(n in self.children for n in self.children[node])\n",
        "        if node.playerName == -1:\n",
        "            return node.take_random_step()\n",
        "        metric = math.log(self.N[node])\n",
        "        \n",
        "        def uct(n):\n",
        "            return self.Q[n] / self.N[n] + self.exploration_weight * math.sqrt(metric / self.N[n])\n",
        "        \n",
        "        return max(self.children[node], key=uct)"
      ],
      "execution_count": 6,
      "outputs": []
    },
    {
      "cell_type": "code",
      "metadata": {
        "id": "QjKj35jfMAhY"
      },
      "source": [
        "def one_episode(game, tree, do_learning=True, rollouts=50):\n",
        "    game.reset()\n",
        "    while game.isEnd == False:\n",
        "        if do_learning:\n",
        "            for _ in range(rollouts):\n",
        "                tree.do_rollout(game)\n",
        "        game = tree.choose(game)\n",
        "        if game.isEnd == False:\n",
        "            game = game.take_random_step()\n",
        "    return game.is_winner()"
      ],
      "execution_count": 7,
      "outputs": []
    },
    {
      "cell_type": "code",
      "metadata": {
        "id": "m6-f7dgNx9wa"
      },
      "source": [
        "def run(size_field = 3, episod_fit = 10000, episod_validate=10000, delta_validate = 1000):\n",
        "    dict_data = {-1:[], 0:[], 1:[]}\n",
        "    mean_data = []\n",
        "    data_x = []\n",
        "    \n",
        "    game = TicTacToe(size_field, size_field, size_field)\n",
        "    mcts=MCTS(exploration_weight=0.8)\n",
        "    \n",
        "    for i in tqdm(range(episod_fit + 1)):\n",
        "        one_episode(game, mcts)\n",
        "        if i % delta_validate == 0:\n",
        "            counts = 0\n",
        "            dict_res = {-1:0, 0:0, 1:0}\n",
        "            for j in range(episod_validate):\n",
        "                res = one_episode(game, mcts, do_learning=False)\n",
        "                dict_res[res] += 1\n",
        "                counts += res\n",
        "            data_x.append(i)\n",
        "            mean_data.append(counts/episod_validate)\n",
        "            dict_data[1].append(dict_res[1])\n",
        "            dict_data[0].append(dict_res[0])\n",
        "            dict_data[-1].append(dict_res[-1])\n",
        "            print(\"Rounds {}, mean ={}, win = {}, draw = {}, loose = {}\".format(i, \n",
        "                                                                                counts/episod_validate, \n",
        "                                                                                dict_res[1],\n",
        "                                                                                dict_res[0],\n",
        "                                                                                dict_res[-1]))\n",
        "    return data_x, mean_data, dict_data"
      ],
      "execution_count": 8,
      "outputs": []
    },
    {
      "cell_type": "code",
      "metadata": {
        "id": "lSaFcYqkMAha"
      },
      "source": [
        "def draw_plot(fig, ax, data_x, data_y, data_y1, data_y2, data_y3):\n",
        "        '''Отрисовка значений среднего выигрыша'''\n",
        "        ax[0].clear()\n",
        "        ax[0].plot(data_x, data_y)\n",
        "        ax[0].set_title('Зависимость среднего выигрыша от итерации обучения')\n",
        "        ax[0].set_ylabel('Средний выигрыш')\n",
        "        ax[0].set_xlabel('Итерация обучения')\n",
        "        ax[0].grid()\n",
        "        \n",
        "        ax[1].clear()\n",
        "        ax[1].plot(data_x, data_y1, label=\"Выигрыш\")\n",
        "        ax[1].plot(data_x, data_y2, label=\"Ничья\")\n",
        "        ax[1].plot(data_x, data_y3, label=\"Поражение\")\n",
        "        ax[1].legend(loc='best', bbox_to_anchor=(0.95, 0.1, 0.05, 0.3))\n",
        "        \n",
        "        ax[1].set_title('Зависимость числа исходов событий для стратегии \"X\" от итерации обучения')\n",
        "        ax[1].set_ylabel('Число игр')\n",
        "        ax[1].set_xlabel('Итерация обучения')\n",
        "        ax[1].grid()\n",
        "        \n",
        "        fig.canvas.draw()"
      ],
      "execution_count": 9,
      "outputs": []
    },
    {
      "cell_type": "markdown",
      "metadata": {
        "id": "GUUnInP0UjhA"
      },
      "source": [
        "# Игра 4х4"
      ]
    },
    {
      "cell_type": "code",
      "metadata": {
        "colab": {
          "base_uri": "https://localhost:8080/",
          "height": 917,
          "referenced_widgets": [
            "b4b1310d2f5c45f7ba95ffb3fd482570",
            "4abc6d467ffd4fe49fd621c8e21c3edc",
            "a18424fff68b420db254f71a4dcb506b",
            "7c7973f8e58a4cff8f22ba24b6ce83fb",
            "9b8717ac75754175afce503c3cda6c9c",
            "94f8434adca245ea874990d0d461d091",
            "588170f47106431a95657a3c694bb0df",
            "3666c5a60ef243fe9aef6765feb00a82"
          ]
        },
        "id": "gpDT2uTH_ieJ",
        "outputId": "fc8dcbf9-4f98-4e5c-e5f7-e043292fc8f9"
      },
      "source": [
        "data_x, mean_data, dict_data = run(size_field = 4, episod_fit = 12000, episod_validate=10000, delta_validate = 250)"
      ],
      "execution_count": 9,
      "outputs": [
        {
          "output_type": "display_data",
          "data": {
            "application/vnd.jupyter.widget-view+json": {
              "model_id": "b4b1310d2f5c45f7ba95ffb3fd482570",
              "version_minor": 0,
              "version_major": 2
            },
            "text/plain": [
              "HBox(children=(FloatProgress(value=0.0, max=12001.0), HTML(value='')))"
            ]
          },
          "metadata": {
            "tags": []
          }
        },
        {
          "output_type": "stream",
          "text": [
            "Rounds 0, mean =0.1056, win = 3480, draw = 4096, loose = 2424\n",
            "Rounds 250, mean =0.3114, win = 4905, draw = 3304, loose = 1791\n",
            "Rounds 500, mean =0.5784, win = 6885, draw = 2014, loose = 1101\n",
            "Rounds 750, mean =0.7553, win = 8132, draw = 1289, loose = 579\n",
            "Rounds 1000, mean =0.8113, win = 8539, draw = 1035, loose = 426\n",
            "Rounds 1250, mean =0.8346, win = 8705, draw = 936, loose = 359\n",
            "Rounds 1500, mean =0.8403, win = 8751, draw = 901, loose = 348\n",
            "Rounds 1750, mean =0.8564, win = 8877, draw = 810, loose = 313\n",
            "Rounds 2000, mean =0.876, win = 9002, draw = 756, loose = 242\n",
            "Rounds 2250, mean =0.8868, win = 9106, draw = 656, loose = 238\n",
            "Rounds 2500, mean =0.901, win = 9208, draw = 594, loose = 198\n",
            "Rounds 2750, mean =0.904, win = 9229, draw = 582, loose = 189\n",
            "Rounds 3000, mean =0.9068, win = 9237, draw = 594, loose = 169\n",
            "Rounds 3250, mean =0.9226, win = 9353, draw = 520, loose = 127\n",
            "Rounds 3500, mean =0.9222, win = 9341, draw = 540, loose = 119\n",
            "Rounds 3750, mean =0.9295, win = 9422, draw = 451, loose = 127\n",
            "Rounds 4000, mean =0.9296, win = 9404, draw = 488, loose = 108\n",
            "Rounds 4250, mean =0.9338, win = 9434, draw = 470, loose = 96\n",
            "Rounds 4500, mean =0.9367, win = 9459, draw = 449, loose = 92\n",
            "Rounds 4750, mean =0.946, win = 9540, draw = 380, loose = 80\n",
            "Rounds 5000, mean =0.942, win = 9505, draw = 410, loose = 85\n",
            "Rounds 5250, mean =0.9524, win = 9597, draw = 330, loose = 73\n",
            "Rounds 5500, mean =0.9516, win = 9586, draw = 344, loose = 70\n",
            "Rounds 5750, mean =0.9512, win = 9572, draw = 368, loose = 60\n",
            "Rounds 6000, mean =0.9523, win = 9598, draw = 327, loose = 75\n",
            "Rounds 6250, mean =0.9591, win = 9648, draw = 295, loose = 57\n",
            "Rounds 6500, mean =0.9588, win = 9636, draw = 316, loose = 48\n",
            "Rounds 6750, mean =0.9578, win = 9635, draw = 308, loose = 57\n",
            "Rounds 7000, mean =0.9603, win = 9657, draw = 289, loose = 54\n",
            "Rounds 7250, mean =0.9606, win = 9657, draw = 292, loose = 51\n",
            "Rounds 7500, mean =0.9624, win = 9665, draw = 294, loose = 41\n",
            "Rounds 7750, mean =0.9612, win = 9646, draw = 320, loose = 34\n",
            "Rounds 8000, mean =0.9681, win = 9713, draw = 255, loose = 32\n",
            "Rounds 8250, mean =0.9642, win = 9683, draw = 276, loose = 41\n",
            "Rounds 8500, mean =0.9666, win = 9696, draw = 274, loose = 30\n",
            "Rounds 8750, mean =0.967, win = 9697, draw = 276, loose = 27\n",
            "Rounds 9000, mean =0.9696, win = 9714, draw = 268, loose = 18\n",
            "Rounds 9250, mean =0.967, win = 9685, draw = 300, loose = 15\n",
            "Rounds 9500, mean =0.9686, win = 9723, draw = 240, loose = 37\n",
            "Rounds 9750, mean =0.971, win = 9737, draw = 236, loose = 27\n",
            "Rounds 10000, mean =0.9689, win = 9711, draw = 267, loose = 22\n",
            "Rounds 10250, mean =0.9683, win = 9708, draw = 267, loose = 25\n",
            "Rounds 10500, mean =0.9694, win = 9720, draw = 254, loose = 26\n",
            "Rounds 10750, mean =0.9735, win = 9749, draw = 237, loose = 14\n",
            "Rounds 11000, mean =0.9723, win = 9746, draw = 231, loose = 23\n",
            "Rounds 11250, mean =0.9724, win = 9739, draw = 246, loose = 15\n",
            "Rounds 11500, mean =0.9722, win = 9752, draw = 218, loose = 30\n",
            "Rounds 11750, mean =0.976, win = 9772, draw = 216, loose = 12\n",
            "Rounds 12000, mean =0.9709, win = 9727, draw = 255, loose = 18\n",
            "\n"
          ],
          "name": "stdout"
        }
      ]
    },
    {
      "cell_type": "code",
      "metadata": {
        "colab": {
          "base_uri": "https://localhost:8080/",
          "height": 958
        },
        "id": "edipbpXS_vLz",
        "outputId": "743e721a-f1a8-4a40-bcf3-63f0b24907b2"
      },
      "source": [
        "fig, ax = plt.subplots(nrows=2, figsize=(8,12), dpi=95);\n",
        "draw_plot(fig, ax, data_x, mean_data, dict_data[1], dict_data[0], dict_data[-1])"
      ],
      "execution_count": 10,
      "outputs": [
        {
          "output_type": "display_data",
          "data": {
            "image/png": "[encoded data removed]",
            "text/plain": [
              "<Figure size 760x1140 with 2 Axes>"
            ]
          },
          "metadata": {
            "tags": [],
            "needs_background": "light"
          }
        }
      ]
    },
    {
      "cell_type": "markdown",
      "metadata": {
        "id": "S4N_ZfBDBWKr"
      },
      "source": [
        ""
      ]
    },
    {
      "cell_type": "markdown",
      "metadata": {
        "id": "r9AyUshYc5uZ"
      },
      "source": [
        "# Игра 5х5"
      ]
    },
    {
      "cell_type": "code",
      "metadata": {
        "colab": {
          "base_uri": "https://localhost:8080/",
          "height": 118,
          "referenced_widgets": [
            "99e2975ffc4549fe8bfcfeba78487b63",
            "a436bc0c6ccb434b94099a65136ff124",
            "92bc0cbce95d495493257c8836141b1b",
            "6eaff014b2174e7493ded9bcb6b7b1fd",
            "0950308e274c4cca8852876a6fbb1d3e",
            "7d013b1e644a4d83b9418656157945ac",
            "fd7eb1b16603467990f11131779e8b70",
            "6788b46147d646748301dbc288d9ee1e"
          ]
        },
        "id": "9dIUWwTEx9wn",
        "outputId": "e325accc-0bee-4916-ca45-3615a6759cc9"
      },
      "source": [
        "data_x, mean_data, dict_data = run(size_field = 5, episod_fit = 25000, episod_validate=10000, delta_validate = 1000)"
      ],
      "execution_count": null,
      "outputs": [
        {
          "output_type": "display_data",
          "data": {
            "application/vnd.jupyter.widget-view+json": {
              "model_id": "99e2975ffc4549fe8bfcfeba78487b63",
              "version_minor": 0,
              "version_major": 2
            },
            "text/plain": [
              "HBox(children=(FloatProgress(value=0.0, max=25001.0), HTML(value='')))"
            ]
          },
          "metadata": {
            "tags": []
          }
        },
        {
          "output_type": "stream",
          "text": [
            "Rounds 0, mean =0.1209, win = 2631, draw = 5947, loose = 1422\n",
            "Rounds 1000, mean =0.2055, win = 3242, draw = 5571, loose = 1187\n",
            "Rounds 2000, mean =0.2353, win = 3469, draw = 5415, loose = 1116\n",
            "Rounds 3000, mean =0.2461, win = 3515, draw = 5431, loose = 1054\n"
          ],
          "name": "stdout"
        }
      ]
    },
    {
      "cell_type": "code",
      "metadata": {
        "id": "U6J2hssbzOVR"
      },
      "source": [
        "fig, ax = plt.subplots(nrows=2, figsize=(8,12), dpi=95);\n",
        "draw_plot(fig, ax, data_x, mean_data, dict_data[1], dict_data[0], dict_data[-1])"
      ],
      "execution_count": null,
      "outputs": []
    },
    {
      "cell_type": "markdown",
      "metadata": {
        "id": "x2MVpNr1BNpQ"
      },
      "source": [
        "Обучение 5х5, прошло неудачно, так как код был написан неоптимально и не хватило оперативной памяти"
      ]
    }
  ]
}